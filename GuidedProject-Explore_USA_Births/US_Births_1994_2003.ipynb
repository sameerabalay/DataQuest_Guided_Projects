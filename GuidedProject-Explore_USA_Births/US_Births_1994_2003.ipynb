{
 "cells": [
  {
   "cell_type": "markdown",
   "metadata": {},
   "source": [
    "Guided Project: Explore U.S.Births\n",
    "\n",
    "The dataset contains the following columns:\n",
    "year: Year (1994 to 2003).\n",
    "month: Month (1 to 12).\n",
    "date_of_month: Day number of the month (1 to 31).\n",
    "day_of_week: Day of week (1 to 7).\n",
    "births: Number of births that day.\n",
    "\n",
    "Few things to consider:\n",
    "1. Total number of births in each year\n",
    "2. Total number of birth in a month for a given year\n",
    "3. Which day there were max number of births in a year\n",
    "4. Is there a correlation - Day of week, day of a month, month has maximum births across the years\n",
    "\n"
   ]
  },
  {
   "cell_type": "code",
   "execution_count": 2,
   "metadata": {
    "collapsed": false
   },
   "outputs": [
    {
     "name": "stdout",
     "output_type": "stream",
     "text": [
      "['year,month,date_of_month,day_of_week,births', '1994,1,1,6,8096', '1994,1,2,7,7772', '1994,1,3,1,10142', '1994,1,4,2,11248']\n"
     ]
    }
   ],
   "source": [
    "'''\n",
    "Read the file into a list\n",
    "'''\n",
    "\n",
    "birthfile_csv = open(\"US_births_1994-2003_CDC_NCHS.csv\", \"r\")\n",
    "birth_data = birthfile_csv.read()\n",
    "birthdata_rows = birth_data.split(\"\\n\")\n",
    "print(birthdata_rows[0:5])"
   ]
  },
  {
   "cell_type": "markdown",
   "metadata": {},
   "source": [
    "Create a function named read_csv() that:\n",
    "Takes a single, required argument, a string representing the file name of the CSV file and returns a list of lists, containing only integer values, and no header row."
   ]
  },
  {
   "cell_type": "code",
   "execution_count": 10,
   "metadata": {
    "collapsed": false
   },
   "outputs": [
    {
     "name": "stdout",
     "output_type": "stream",
     "text": [
      "[[1994, 1, 1, 6, 8096], [1994, 1, 2, 7, 7772], [1994, 1, 3, 1, 10142], [1994, 1, 4, 2, 11248], [1994, 1, 5, 3, 11053]]\n"
     ]
    }
   ],
   "source": [
    "'''\n",
    "Write a function that reads a csv file and returns a each row converted into a list. In this particulat example \n",
    "the list items are all integers so convert all the data into integer which can be easier to do analysis later \n",
    "'''\n",
    "def read_csv(filename):\n",
    "    file_csv = open(filename, \"r\")\n",
    "    file_data = file_csv.read()\n",
    "    file_data_rows = file_data.split(\"\\n\")\n",
    "    # Remove the header\n",
    "    file_data_rows_without_header = file_data_rows[1:len(file_data_rows)]\n",
    "    \n",
    "    # Convert the row data into a list\n",
    "    final_list = []\n",
    "    for data in file_data_rows_without_header:\n",
    "        string_list = data.split(\",\")\n",
    "        int_list = []\n",
    "        for item in string_list:\n",
    "            int_value = int(item)\n",
    "            int_list.append(int_value)\n",
    "        final_list.append(int_list)\n",
    "            \n",
    "    return final_list\n",
    "\n",
    "int_value_list = read_csv(\"US_births_1994-2003_CDC_NCHS.csv\")\n",
    "print(int_value_list[0:5])\n",
    "\n",
    "        \n",
    "       \n",
    "        "
   ]
  },
  {
   "cell_type": "markdown",
   "metadata": {},
   "source": [
    "Create a function named month_births() that:\n",
    "Takes a single, required argument, a list of lists.\n",
    "Creates an empty dictionary, births_per_month, to store the monthly totals."
   ]
  },
  {
   "cell_type": "code",
   "execution_count": 11,
   "metadata": {
    "collapsed": false
   },
   "outputs": [
    {
     "name": "stdout",
     "output_type": "stream",
     "text": [
      "{1: 3232517, 2: 3018140, 3: 3322069, 4: 3185314, 5: 3350907, 6: 3296530, 7: 3498783, 8: 3525858, 9: 3439698, 10: 3378814, 11: 3171647, 12: 3301860}\n"
     ]
    }
   ],
   "source": [
    "'''\n",
    "Create a function named month_births() that: Takes a single, required argument, a list of lists.\n",
    "Creates an empty dictionary, births_per_month, to store the monthly totals.\n",
    "'''\n",
    "\n",
    "def month_births(values_list):\n",
    "    births_per_month = {}\n",
    "\n",
    "    for item in values_list:\n",
    "        # retrieve the month irrespective of the year. Column 1 is year\n",
    "        month = item[1]\n",
    "        births = item[4]\n",
    "        if month in births_per_month:\n",
    "            births_per_month[month] = births_per_month[month] + births\n",
    "        else:\n",
    "            births_per_month[month] = births\n",
    "        \n",
    "    return births_per_month\n",
    "\n",
    "births_per_month = month_births(int_value_list)\n",
    "print(births_per_month)\n"
   ]
  },
  {
   "cell_type": "markdown",
   "metadata": {},
   "source": [
    "Create a function named dow_births() that takes a single, required argument (a list of lists) \n",
    "and returns a dictionary containing the total number of births for each unique value of the day_of_week column.\n",
    "Use the dow_births() function to return the day-of-week totals for the dataset and assign the result to cdc_day_births. Display the dictionary."
   ]
  },
  {
   "cell_type": "code",
   "execution_count": 13,
   "metadata": {
    "collapsed": false
   },
   "outputs": [
    {
     "name": "stdout",
     "output_type": "stream",
     "text": [
      "{6: 4562111, 7: 4079723, 1: 5789166, 2: 6446196, 3: 6322855, 4: 6288429, 5: 6233657}\n"
     ]
    }
   ],
   "source": [
    "'''\n",
    "Create a function named dow_births() that takes a single, required argument (a list of lists) \n",
    "and returns a dictionary containing the total number of births for each unique value of the day_of_week column.\n",
    "Use the dow_births() function to return the day-of-week totals for the dataset and assign the result to cdc_day_births. \n",
    "Display the dictionary.\n",
    "'''\n",
    "\n",
    "def dow_birth(values_list):\n",
    "    day_of_week_births = {}\n",
    "    \n",
    "    for item in values_list:\n",
    "        day_of_week = item[3]\n",
    "        births = item[4]\n",
    "        if day_of_week in day_of_week_births:\n",
    "            day_of_week_births[day_of_week] = day_of_week_births[day_of_week] + births\n",
    "        else:\n",
    "            day_of_week_births[day_of_week] = births\n",
    "    return day_of_week_births\n",
    "\n",
    "day_of_week_births = dow_birth(int_value_list)\n",
    "print(day_of_week_births)"
   ]
  },
  {
   "cell_type": "markdown",
   "metadata": {},
   "source": [
    "Create a function that takes a list of lists and returns a dictionary of totals for the column value passed\n"
   ]
  },
  {
   "cell_type": "code",
   "execution_count": null,
   "metadata": {
    "collapsed": true
   },
   "outputs": [],
   "source": [
    "'''\n",
    "Create a generic function that returns a dictionary given a column name and column value. If value is ALL \n",
    "then it sums up all the values for the column_position \n",
    "'''\n",
    "\n",
    "def total_birth(values_list, column_position, value=\"ALL\"):\n",
    "    total_births = {}\n",
    "    \n",
    "    for item in values_list:\n",
    "        item_index_for_dictionary = item[column_position]\n",
    "        births = item[4]\n",
    "        if item_index_for_dictionary in total_births:\n",
    "            total_births[item_index_for_dictionary] = total_births[item_index_for_dictionary] + births\n",
    "        else:\n",
    "            total_births[item_index_for_dictionary] = births\n",
    "            \n",
    "    if(value == \"ALL\"):\n",
    "        return total_births\n",
    "    else:\n",
    "        return total_births\n",
    "    \n",
    "day_of_week_births = total_birth(int_value_list, 3)\n",
    "year_births = total_birth(int_value_list, 0)\n",
    "\n",
    "print(day_of_week_births)\n",
    "print(year_births)"
   ]
  },
  {
   "cell_type": "markdown",
   "metadata": {},
   "source": [
    "TODO: Trends to look at\n",
    "1. Year of most births\n",
    "2. Month of most births for all years\n",
    "3. Is there a pattern of most birth months\n",
    "4. Is there a day of week when most births happen and is there a pattern\n",
    "5. Is there a pattern of most birth date and is there a pattern"
   ]
  }
 ],
 "metadata": {
  "kernelspec": {
   "display_name": "Python 3",
   "language": "python",
   "name": "python3"
  },
  "language_info": {
   "codemirror_mode": {
    "name": "ipython",
    "version": 3
   },
   "file_extension": ".py",
   "mimetype": "text/x-python",
   "name": "python",
   "nbconvert_exporter": "python",
   "pygments_lexer": "ipython3",
   "version": "3.6.0"
  }
 },
 "nbformat": 4,
 "nbformat_minor": 2
}
