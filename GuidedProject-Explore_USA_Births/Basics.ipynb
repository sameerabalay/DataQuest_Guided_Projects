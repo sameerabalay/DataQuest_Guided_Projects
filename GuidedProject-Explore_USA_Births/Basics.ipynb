{
 "cells": [
  {
   "cell_type": "code",
   "execution_count": 2,
   "metadata": {
    "collapsed": false
   },
   "outputs": [
    {
     "data": {
      "text/plain": [
       "['year,month,date_of_month,day_of_week,births',\n",
       " '1994,1,1,6,8096',\n",
       " '1994,1,2,7,7772',\n",
       " '1994,1,3,1,10142',\n",
       " '1994,1,4,2,11248',\n",
       " '1994,1,5,3,11053',\n",
       " '1994,1,6,4,11406',\n",
       " '1994,1,7,5,11251',\n",
       " '1994,1,8,6,8653',\n",
       " '1994,1,9,7,7910']"
      ]
     },
     "execution_count": 2,
     "metadata": {},
     "output_type": "execute_result"
    }
   ],
   "source": [
    "us_birth_csv = open(\"US_births_1994-2003_CDC_NCHS.csv\").read()\n",
    "us_birth_list = us_birth_csv.split(\"\\n\")\n",
    "\n",
    "us_birth_list[0:10]"
   ]
  },
  {
   "cell_type": "code",
   "execution_count": 4,
   "metadata": {
    "collapsed": false
   },
   "outputs": [
    {
     "data": {
      "text/plain": [
       "[[1994, 1, 1, 6, 8096],\n",
       " [1994, 1, 2, 7, 7772],\n",
       " [1994, 1, 3, 1, 10142],\n",
       " [1994, 1, 4, 2, 11248],\n",
       " [1994, 1, 5, 3, 11053],\n",
       " [1994, 1, 6, 4, 11406],\n",
       " [1994, 1, 7, 5, 11251],\n",
       " [1994, 1, 8, 6, 8653],\n",
       " [1994, 1, 9, 7, 7910],\n",
       " [1994, 1, 10, 1, 10498]]"
      ]
     },
     "execution_count": 4,
     "metadata": {},
     "output_type": "execute_result"
    }
   ],
   "source": [
    "def readcsv(filename):\n",
    "    csv_file = open(filename).read()\n",
    "    csv_list = csv_file.split(\"\\n\")\n",
    "    string_list = csv_list[1:len(csv_list)]\n",
    "    final_list = []\n",
    "    \n",
    "    for item in string_list:\n",
    "        int_fields = []\n",
    "        string_fields = item.split(\",\")\n",
    "        for field in string_fields:\n",
    "            int_fields.append(int(field))\n",
    "        final_list.append(int_fields)\n",
    "    \n",
    "    return final_list\n",
    "\n",
    "cdc_list = readcsv(\"US_births_1994-2003_CDC_NCHS.csv\")\n",
    "\n",
    "cdc_list[0:10]"
   ]
  },
  {
   "cell_type": "code",
   "execution_count": 5,
   "metadata": {
    "collapsed": false
   },
   "outputs": [
    {
     "data": {
      "text/plain": [
       "{1: 3232517,\n",
       " 2: 3018140,\n",
       " 3: 3322069,\n",
       " 4: 3185314,\n",
       " 5: 3350907,\n",
       " 6: 3296530,\n",
       " 7: 3498783,\n",
       " 8: 3525858,\n",
       " 9: 3439698,\n",
       " 10: 3378814,\n",
       " 11: 3171647,\n",
       " 12: 3301860}"
      ]
     },
     "execution_count": 5,
     "metadata": {},
     "output_type": "execute_result"
    }
   ],
   "source": [
    "def month_births(birthlist):\n",
    "    birth_per_month = dict()\n",
    "    for item in birthlist:\n",
    "        month = item[1]\n",
    "        no_of_births = item[4]\n",
    "        if month in birth_per_month:\n",
    "            birth_per_month[month] = birth_per_month[month] + no_of_births\n",
    "        else:\n",
    "            birth_per_month[month] = no_of_births\n",
    "    \n",
    "    return birth_per_month\n",
    "\n",
    "cdc_month_births = month_births(cdc_list)\n",
    "cdc_month_births"
   ]
  },
  {
   "cell_type": "code",
   "execution_count": 7,
   "metadata": {
    "collapsed": false
   },
   "outputs": [
    {
     "data": {
      "text/plain": [
       "{1: 5789166,\n",
       " 2: 6446196,\n",
       " 3: 6322855,\n",
       " 4: 6288429,\n",
       " 5: 6233657,\n",
       " 6: 4562111,\n",
       " 7: 4079723}"
      ]
     },
     "execution_count": 7,
     "metadata": {},
     "output_type": "execute_result"
    }
   ],
   "source": [
    "def dow_births(birthlist):\n",
    "    birth_per_day_of_week = dict()\n",
    "    for item in birthlist:\n",
    "        day_of_week  = item[3]\n",
    "        no_of_births = item[4]\n",
    "        if day_of_week in birth_per_day_of_week:\n",
    "            birth_per_day_of_week[day_of_week] = birth_per_day_of_week[day_of_week] + no_of_births\n",
    "        else:\n",
    "            birth_per_day_of_week[day_of_week] = no_of_births\n",
    "    \n",
    "    return birth_per_day_of_week\n",
    "\n",
    "cdc_day_births = dow_births(cdc_list)\n",
    "cdc_day_births"
   ]
  },
  {
   "cell_type": "code",
   "execution_count": 8,
   "metadata": {
    "collapsed": true
   },
   "outputs": [],
   "source": [
    "# calc_counts calculates and returns a dictionary containing the total number \n",
    "# of births for each unique value in the column at position column\n",
    "# It takes two parameters\n",
    "#   * data: a list of lists\n",
    "#   * column: the column number we want to calculate the total for\n",
    "def calc_counts(data, column):\n",
    "    total_number_of_births = dict()\n",
    "    for item in data:\n",
    "        column_to_use = item[column]\n",
    "        no_of_births = item[4]\n",
    "        if column_to_use in total_number_of_births:\n",
    "            total_number_of_births[column_to_use] = total_number_of_births[column_to_use] + no_of_births\n",
    "        else:\n",
    "            total_number_of_births[column_to_use] = no_of_births\n",
    "            \n",
    "    return total_number_of_births\n",
    "\n",
    "cdc_year_births = calc_counts(cdc_list, 0)\n",
    "cdc_month_births = calc_counts(cdc_list, 1)\n",
    "cdc_dom_births = calc_counts(cdc_list, 2)\n",
    "cdc_dow_births = calc_counts(cdc_list, 3)\n",
    "\n"
   ]
  },
  {
   "cell_type": "code",
   "execution_count": null,
   "metadata": {
    "collapsed": true
   },
   "outputs": [],
   "source": []
  }
 ],
 "metadata": {
  "anaconda-cloud": {},
  "kernelspec": {
   "display_name": "Python 3",
   "language": "python",
   "name": "python3"
  },
  "language_info": {
   "codemirror_mode": {
    "name": "ipython",
    "version": 3
   },
   "file_extension": ".py",
   "mimetype": "text/x-python",
   "name": "python",
   "nbconvert_exporter": "python",
   "pygments_lexer": "ipython3",
   "version": "3.4.3"
  }
 },
 "nbformat": 4,
 "nbformat_minor": 1
}
